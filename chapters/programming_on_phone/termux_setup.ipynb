{
 "cells": [
  {
   "cell_type": "markdown",
   "id": "b1359722-39b1-4620-846e-ba73997900b7",
   "metadata": {},
   "source": [
    "# Установка termux и настройка среды"
   ]
  },
  {
   "cell_type": "code",
   "execution_count": null,
   "id": "8bf64e99-9753-47f7-97af-110d7655e8c1",
   "metadata": {},
   "outputs": [],
   "source": []
  }
 ],
 "metadata": {
  "kernelspec": {
   "display_name": "Python 3 (ipykernel)",
   "language": "python",
   "name": "python3"
  },
  "language_info": {
   "codemirror_mode": {
    "name": "ipython",
    "version": 3
   },
   "file_extension": ".py",
   "mimetype": "text/x-python",
   "name": "python",
   "nbconvert_exporter": "python",
   "pygments_lexer": "ipython3",
   "version": "3.10.10"
  }
 },
 "nbformat": 4,
 "nbformat_minor": 5
}
