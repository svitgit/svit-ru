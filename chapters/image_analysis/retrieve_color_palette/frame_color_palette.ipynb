{
 "cells": [
  {
   "cell_type": "markdown",
   "id": "9e182b53-c214-4a0b-b867-dcc13440a1f7",
   "metadata": {},
   "source": [
    "# Секрет цветовых палитр"
   ]
  },
  {
   "cell_type": "code",
   "execution_count": null,
   "id": "c618e597-1b13-4bd1-b5c0-ef5f26e81a5d",
   "metadata": {},
   "outputs": [],
   "source": []
  }
 ],
 "metadata": {
  "jupytext": {
   "formats": "ipynb,md:myst"
  },
  "kernelspec": {
   "display_name": "Python 3 (ipykernel)",
   "language": "python",
   "name": "python3"
  },
  "language_info": {
   "codemirror_mode": {
    "name": "ipython",
    "version": 3
   },
   "file_extension": ".py",
   "mimetype": "text/x-python",
   "name": "python",
   "nbconvert_exporter": "python",
   "pygments_lexer": "ipython3",
   "version": "3.10.10"
  }
 },
 "nbformat": 4,
 "nbformat_minor": 5
}
